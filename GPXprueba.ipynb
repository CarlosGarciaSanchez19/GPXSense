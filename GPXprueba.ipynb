{
 "cells": [
  {
   "cell_type": "code",
   "execution_count": 1,
   "metadata": {},
   "outputs": [
    {
     "name": "stdout",
     "output_type": "stream",
     "text": [
      "Requirement already satisfied: pandas in ./venv/lib/python3.12/site-packages (2.2.3)\n",
      "Requirement already satisfied: numpy>=1.26.0 in ./venv/lib/python3.12/site-packages (from pandas) (2.2.2)\n",
      "Requirement already satisfied: python-dateutil>=2.8.2 in ./venv/lib/python3.12/site-packages (from pandas) (2.9.0.post0)\n",
      "Requirement already satisfied: pytz>=2020.1 in ./venv/lib/python3.12/site-packages (from pandas) (2024.2)\n",
      "Requirement already satisfied: tzdata>=2022.7 in ./venv/lib/python3.12/site-packages (from pandas) (2025.1)\n",
      "Requirement already satisfied: six>=1.5 in ./venv/lib/python3.12/site-packages (from python-dateutil>=2.8.2->pandas) (1.17.0)\n",
      "Note: you may need to restart the kernel to use updated packages.\n",
      "Requirement already satisfied: numpy in ./venv/lib/python3.12/site-packages (2.2.2)\n",
      "Note: you may need to restart the kernel to use updated packages.\n",
      "Requirement already satisfied: matplotlib in ./venv/lib/python3.12/site-packages (3.10.0)\n",
      "Requirement already satisfied: contourpy>=1.0.1 in ./venv/lib/python3.12/site-packages (from matplotlib) (1.3.1)\n",
      "Requirement already satisfied: cycler>=0.10 in ./venv/lib/python3.12/site-packages (from matplotlib) (0.12.1)\n",
      "Requirement already satisfied: fonttools>=4.22.0 in ./venv/lib/python3.12/site-packages (from matplotlib) (4.55.8)\n",
      "Requirement already satisfied: kiwisolver>=1.3.1 in ./venv/lib/python3.12/site-packages (from matplotlib) (1.4.8)\n",
      "Requirement already satisfied: numpy>=1.23 in ./venv/lib/python3.12/site-packages (from matplotlib) (2.2.2)\n",
      "Requirement already satisfied: packaging>=20.0 in ./venv/lib/python3.12/site-packages (from matplotlib) (24.2)\n",
      "Requirement already satisfied: pillow>=8 in ./venv/lib/python3.12/site-packages (from matplotlib) (11.1.0)\n",
      "Requirement already satisfied: pyparsing>=2.3.1 in ./venv/lib/python3.12/site-packages (from matplotlib) (3.2.1)\n",
      "Requirement already satisfied: python-dateutil>=2.7 in ./venv/lib/python3.12/site-packages (from matplotlib) (2.9.0.post0)\n",
      "Requirement already satisfied: six>=1.5 in ./venv/lib/python3.12/site-packages (from python-dateutil>=2.7->matplotlib) (1.17.0)\n",
      "Note: you may need to restart the kernel to use updated packages.\n",
      "Requirement already satisfied: gpxpy in ./venv/lib/python3.12/site-packages (1.6.2)\n",
      "Note: you may need to restart the kernel to use updated packages.\n",
      "Requirement already satisfied: contextily in ./venv/lib/python3.12/site-packages (1.6.2)\n",
      "Requirement already satisfied: geopy in ./venv/lib/python3.12/site-packages (from contextily) (2.4.1)\n",
      "Requirement already satisfied: matplotlib in ./venv/lib/python3.12/site-packages (from contextily) (3.10.0)\n",
      "Requirement already satisfied: mercantile in ./venv/lib/python3.12/site-packages (from contextily) (1.2.1)\n",
      "Requirement already satisfied: pillow in ./venv/lib/python3.12/site-packages (from contextily) (11.1.0)\n",
      "Requirement already satisfied: rasterio in ./venv/lib/python3.12/site-packages (from contextily) (1.4.3)\n",
      "Requirement already satisfied: requests in ./venv/lib/python3.12/site-packages (from contextily) (2.32.3)\n",
      "Requirement already satisfied: joblib in ./venv/lib/python3.12/site-packages (from contextily) (1.4.2)\n",
      "Requirement already satisfied: xyzservices in ./venv/lib/python3.12/site-packages (from contextily) (2025.1.0)\n",
      "Requirement already satisfied: geographiclib<3,>=1.52 in ./venv/lib/python3.12/site-packages (from geopy->contextily) (2.0)\n",
      "Requirement already satisfied: contourpy>=1.0.1 in ./venv/lib/python3.12/site-packages (from matplotlib->contextily) (1.3.1)\n",
      "Requirement already satisfied: cycler>=0.10 in ./venv/lib/python3.12/site-packages (from matplotlib->contextily) (0.12.1)\n",
      "Requirement already satisfied: fonttools>=4.22.0 in ./venv/lib/python3.12/site-packages (from matplotlib->contextily) (4.55.8)\n",
      "Requirement already satisfied: kiwisolver>=1.3.1 in ./venv/lib/python3.12/site-packages (from matplotlib->contextily) (1.4.8)\n",
      "Requirement already satisfied: numpy>=1.23 in ./venv/lib/python3.12/site-packages (from matplotlib->contextily) (2.2.2)\n",
      "Requirement already satisfied: packaging>=20.0 in ./venv/lib/python3.12/site-packages (from matplotlib->contextily) (24.2)\n",
      "Requirement already satisfied: pyparsing>=2.3.1 in ./venv/lib/python3.12/site-packages (from matplotlib->contextily) (3.2.1)\n",
      "Requirement already satisfied: python-dateutil>=2.7 in ./venv/lib/python3.12/site-packages (from matplotlib->contextily) (2.9.0.post0)\n",
      "Requirement already satisfied: click>=3.0 in ./venv/lib/python3.12/site-packages (from mercantile->contextily) (8.1.8)\n",
      "Requirement already satisfied: affine in ./venv/lib/python3.12/site-packages (from rasterio->contextily) (2.4.0)\n",
      "Requirement already satisfied: attrs in ./venv/lib/python3.12/site-packages (from rasterio->contextily) (25.1.0)\n",
      "Requirement already satisfied: certifi in ./venv/lib/python3.12/site-packages (from rasterio->contextily) (2024.12.14)\n",
      "Requirement already satisfied: cligj>=0.5 in ./venv/lib/python3.12/site-packages (from rasterio->contextily) (0.7.2)\n",
      "Requirement already satisfied: click-plugins in ./venv/lib/python3.12/site-packages (from rasterio->contextily) (1.1.1)\n",
      "Requirement already satisfied: charset-normalizer<4,>=2 in ./venv/lib/python3.12/site-packages (from requests->contextily) (3.4.1)\n",
      "Requirement already satisfied: idna<4,>=2.5 in ./venv/lib/python3.12/site-packages (from requests->contextily) (3.10)\n",
      "Requirement already satisfied: urllib3<3,>=1.21.1 in ./venv/lib/python3.12/site-packages (from requests->contextily) (2.3.0)\n",
      "Requirement already satisfied: six>=1.5 in ./venv/lib/python3.12/site-packages (from python-dateutil>=2.7->matplotlib->contextily) (1.17.0)\n",
      "Note: you may need to restart the kernel to use updated packages.\n",
      "Requirement already satisfied: folium in ./venv/lib/python3.12/site-packages (0.19.4)\n",
      "Requirement already satisfied: branca>=0.6.0 in ./venv/lib/python3.12/site-packages (from folium) (0.8.1)\n",
      "Requirement already satisfied: jinja2>=2.9 in ./venv/lib/python3.12/site-packages (from folium) (3.1.5)\n",
      "Requirement already satisfied: numpy in ./venv/lib/python3.12/site-packages (from folium) (2.2.2)\n",
      "Requirement already satisfied: requests in ./venv/lib/python3.12/site-packages (from folium) (2.32.3)\n",
      "Requirement already satisfied: xyzservices in ./venv/lib/python3.12/site-packages (from folium) (2025.1.0)\n",
      "Requirement already satisfied: MarkupSafe>=2.0 in ./venv/lib/python3.12/site-packages (from jinja2>=2.9->folium) (3.0.2)\n",
      "Requirement already satisfied: charset-normalizer<4,>=2 in ./venv/lib/python3.12/site-packages (from requests->folium) (3.4.1)\n",
      "Requirement already satisfied: idna<4,>=2.5 in ./venv/lib/python3.12/site-packages (from requests->folium) (3.10)\n",
      "Requirement already satisfied: urllib3<3,>=1.21.1 in ./venv/lib/python3.12/site-packages (from requests->folium) (2.3.0)\n",
      "Requirement already satisfied: certifi>=2017.4.17 in ./venv/lib/python3.12/site-packages (from requests->folium) (2024.12.14)\n",
      "Note: you may need to restart the kernel to use updated packages.\n",
      "Requirement already satisfied: scipy in ./venv/lib/python3.12/site-packages (1.15.1)\n",
      "Requirement already satisfied: numpy<2.5,>=1.23.5 in ./venv/lib/python3.12/site-packages (from scipy) (2.2.2)\n",
      "Note: you may need to restart the kernel to use updated packages.\n"
     ]
    }
   ],
   "source": [
    "%pip install pandas\n",
    "%pip install numpy\n",
    "%pip install matplotlib\n",
    "%pip install gpxpy\n",
    "%pip install contextily\n",
    "%pip install folium\n",
    "%pip install scipy"
   ]
  },
  {
   "cell_type": "code",
   "execution_count": 1,
   "metadata": {},
   "outputs": [],
   "source": [
    "from gpx_analyser import gpxAnalyserClass"
   ]
  },
  {
   "cell_type": "code",
   "execution_count": 2,
   "metadata": {},
   "outputs": [
    {
     "name": "stdout",
     "output_type": "stream",
     "text": [
      "         lat       lon    ele                      time    hr    cad  \\\n",
      "0  40.542303 -3.645087  687.2 2025-01-29 08:36:45+00:00  91.0  156.0   \n",
      "1  40.542334 -3.645152  687.4 2025-01-29 08:36:47+00:00  90.0  180.0   \n",
      "2  40.542356 -3.645254  687.6 2025-01-29 08:36:50+00:00  92.0  182.0   \n",
      "3  40.542337 -3.645441  688.0 2025-01-29 08:36:55+00:00  94.0  183.0   \n",
      "4  40.542364 -3.645514  688.1 2025-01-29 08:36:57+00:00  97.0  183.0   \n",
      "\n",
      "        dist  time_acc       pace  \n",
      "0   0.000000  0.000000  20.000000  \n",
      "1   6.484567  0.033333   5.140410  \n",
      "2  15.443992  0.083333   5.580715  \n",
      "3  31.386083  0.166667   5.227252  \n",
      "4  38.246394  0.200000   4.858866  \n"
     ]
    }
   ],
   "source": [
    "gpxAnalyseDay1 = gpxAnalyserClass(\"29-01-2025.gpx\")\n",
    "gpxAnalyseDay2 = gpxAnalyserClass(\"31-01-2025.gpx\")\n",
    "df = gpxAnalyseDay1.df\n",
    "print(df.head())"
   ]
  }
 ],
 "metadata": {
  "kernelspec": {
   "display_name": "venv",
   "language": "python",
   "name": "python3"
  },
  "language_info": {
   "codemirror_mode": {
    "name": "ipython",
    "version": 3
   },
   "file_extension": ".py",
   "mimetype": "text/x-python",
   "name": "python",
   "nbconvert_exporter": "python",
   "pygments_lexer": "ipython3",
   "version": "3.12.7"
  }
 },
 "nbformat": 4,
 "nbformat_minor": 2
}
